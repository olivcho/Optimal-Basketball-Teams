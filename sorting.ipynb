{
 "cells": [
  {
   "cell_type": "code",
   "execution_count": 1,
   "metadata": {},
   "outputs": [],
   "source": [
    "import numpy as np\n",
    "import pandas as pd"
   ]
  },
  {
   "cell_type": "code",
   "execution_count": 2,
   "metadata": {},
   "outputs": [
    {
     "name": "stdout",
     "output_type": "stream",
     "text": [
      "Shape of feature vectors: (15, 6)\n",
      "\n",
      "First few player vectors:\n",
      " [[3.2 3.7 4.9 4.  5.7 5.8]\n",
      " [6.1 6.6 6.7 4.  5.5 6.5]\n",
      " [3.1 5.1 3.1 2.2 3.  3.8]]\n"
     ]
    }
   ],
   "source": [
    "# Read and vectorize data\n",
    "df = pd.read_csv('data.csv')\n",
    "\n",
    "player_vectors = df.pivot(index='Player', columns='Skill', values='Value')\n",
    "skill_order = ['Playmaking', 'Shooting', 'Dribbling', 'Rebounding', 'Defense', 'Athleticism']\n",
    "player_vectors = player_vectors[skill_order]\n",
    "X = player_vectors.to_numpy()\n",
    "\n",
    "print(\"Shape of feature vectors:\", X.shape)\n",
    "print(\"\\nFirst few player vectors:\\n\", X[:3])"
   ]
  },
  {
   "cell_type": "markdown",
   "metadata": {},
   "source": [
    "# Algorithms\n",
    "\n",
    "1) K-means\n",
    "2) Greedy"
   ]
  },
  {
   "cell_type": "code",
   "execution_count": 13,
   "metadata": {},
   "outputs": [
    {
     "name": "stdout",
     "output_type": "stream",
     "text": [
      "\n",
      "Team 1:\n",
      "  Oliver\n",
      "  Max C\n",
      "  Swain\n",
      "  Max R\n",
      "  Ethan L\n",
      "\n",
      "Team 2:\n",
      "  Diego\n",
      "  Rohan\n",
      "  Aryan\n",
      "  Izzy\n",
      "  William\n",
      "\n",
      "Team 3:\n",
      "  Logan\n",
      "  Gavin\n",
      "  Kian\n",
      "  Jackson\n",
      "  Ethan H\n"
     ]
    }
   ],
   "source": [
    "# K-means clustering\n",
    "\n",
    "from sklearn.cluster import KMeans\n",
    "\n",
    "n_clusters = 5\n",
    "\n",
    "kmeans = KMeans(n_clusters=n_clusters)\n",
    "kmeans.fit(X)\n",
    "\n",
    "cluster_labels = kmeans.labels_\n",
    "\n",
    "# Balance clusters to exactly 3 players each\n",
    "for cluster in range(n_clusters):\n",
    "    cluster_mask = cluster_labels == cluster\n",
    "    cluster_size = np.sum(cluster_mask)\n",
    "    \n",
    "    if cluster_size > 3:\n",
    "        # Find furthest players from centroid and reassign them\n",
    "        distances = np.linalg.norm(X[cluster_mask] - kmeans.cluster_centers_[cluster], axis=1)\n",
    "        sorted_indices = np.argsort(distances)[::-1]\n",
    "        players_to_move = np.where(cluster_mask)[0][sorted_indices[3:]]\n",
    "        \n",
    "        # Assign to nearest under-filled cluster\n",
    "        for player_idx in players_to_move:\n",
    "            distances_to_centers = np.linalg.norm(X[player_idx] - kmeans.cluster_centers_, axis=1)\n",
    "            for target_cluster in np.argsort(distances_to_centers):\n",
    "                if np.sum(cluster_labels == target_cluster) < 3:\n",
    "                    cluster_labels[player_idx] = target_cluster\n",
    "                    break\n",
    "\n",
    "# Randomly select 1 player from each cluster to form teams of 5\n",
    "n_teams = 3  # Since we have 15 players total (5 clusters * 3 players)\n",
    "teams = []\n",
    "\n",
    "for team_idx in range(n_teams):\n",
    "    team = []\n",
    "    # Get one random player from each cluster\n",
    "    for cluster in range(n_clusters):\n",
    "        # Get indices of players in this cluster that haven't been selected yet\n",
    "        available_players = [i for i in range(len(cluster_labels)) \n",
    "                           if cluster_labels[i] == cluster and \n",
    "                           i not in [p for t in teams for p in t]]\n",
    "        # Randomly select one player\n",
    "        selected_player = np.random.choice(available_players)\n",
    "        team.append(selected_player)\n",
    "    teams.append(team)\n",
    "\n",
    "# Print the teams\n",
    "for i, team in enumerate(teams):\n",
    "    print(f\"\\nTeam {i+1}:\")\n",
    "    for player_idx in team:\n",
    "        print(f\"  {player_vectors.index[player_idx]}\")"
   ]
  },
  {
   "cell_type": "code",
   "execution_count": 29,
   "metadata": {},
   "outputs": [
    {
     "name": "stdout",
     "output_type": "stream",
     "text": [
      "\n",
      "Team 1:\n",
      "  Diego\n",
      "  Logan\n",
      "  Max C\n",
      "  Ethan L\n",
      "  Ethan H\n",
      "\n",
      "Team 2:\n",
      "  Rohan\n",
      "  Oliver\n",
      "  Aryan\n",
      "  Izzy\n",
      "  William\n",
      "\n",
      "Team 3:\n",
      "  Jackson\n",
      "  Max R\n",
      "  Kian\n",
      "  Swain\n",
      "  Gavin\n"
     ]
    }
   ],
   "source": [
    "# Greedy algorithm -- snake draft by summing player skill values\n",
    "\n",
    "player_totals = df.groupby('Player')['Value'].sum()\n",
    "player_totals = player_totals.sort_values(ascending=False)\n",
    "\n",
    "teams = [[], [], []]\n",
    "\n",
    "for i in range(15):\n",
    "    team_idx = i // 3\n",
    "    if team_idx % 2 == 0:\n",
    "        # Forward order: 0,1,2\n",
    "        teams[i % 3].append(player_totals.index[i])\n",
    "    else:\n",
    "        # Reverse order: 2,1,0 \n",
    "        teams[2 - (i % 3)].append(player_totals.index[i])\n",
    "\n",
    "for i, team in enumerate(teams):\n",
    "    print(f\"\\nTeam {i+1}:\")\n",
    "    for player_idx in team:\n",
    "        print(f\"  {player_idx}\")"
   ]
  },
  {
   "cell_type": "code",
   "execution_count": null,
   "metadata": {},
   "outputs": [],
   "source": []
  }
 ],
 "metadata": {
  "kernelspec": {
   "display_name": "Python 3",
   "language": "python",
   "name": "python3"
  },
  "language_info": {
   "codemirror_mode": {
    "name": "ipython",
    "version": 3
   },
   "file_extension": ".py",
   "mimetype": "text/x-python",
   "name": "python",
   "nbconvert_exporter": "python",
   "pygments_lexer": "ipython3",
   "version": "3.11.4"
  }
 },
 "nbformat": 4,
 "nbformat_minor": 2
}
